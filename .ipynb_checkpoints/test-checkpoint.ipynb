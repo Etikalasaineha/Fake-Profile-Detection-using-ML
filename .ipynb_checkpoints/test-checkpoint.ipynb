{
 "cells": [
  {
   "cell_type": "markdown",
   "id": "deeeb2f6",
   "metadata": {},
   "source": [
    "# Importing Libraries"
   ]
  },
  {
   "cell_type": "code",
   "execution_count": 1,
   "id": "ae410444",
   "metadata": {},
   "outputs": [],
   "source": [
    "import warnings\n",
    "warnings.filterwarnings('ignore')"
   ]
  },
  {
   "cell_type": "code",
   "execution_count": 2,
   "id": "0332ead7",
   "metadata": {},
   "outputs": [],
   "source": [
    "import pandas as pd\n",
    "import numpy as np\n",
    "import matplotlib.pyplot as plt\n",
    "from sklearn import model_selection,preprocessing\n",
    "from sklearn.model_selection import train_test_split\n",
    "import seaborn as sns\n",
    "import matplotlib.pyplot as plt\n",
    "from sklearn.ensemble import RandomForestClassifier\n",
    "from sklearn.naive_bayes import GaussianNB\n",
    "from sklearn.linear_model import LogisticRegression\n",
    "from sklearn.metrics import confusion_matrix, accuracy_score, classification_report\n",
    "from sklearn.metrics import accuracy_score\n",
    "from sklearn.metrics import precision_score\n",
    "from sklearn.metrics import recall_score\n",
    "from sklearn.metrics import f1_score\n",
    "import pickle\n",
    "from tensorflow.keras import regularizers\n",
    "from tensorflow.keras.models import Sequential,model_from_json\n",
    "from tensorflow.keras.layers import Dense, Dropout, Activation\n",
    "from tensorflow.keras import optimizers\n",
    "from sklearn.ensemble import GradientBoostingClassifier\n",
    "from tensorflow.keras.layers import LSTM, Dense\n",
    "from tensorflow.keras.layers import Conv1D, MaxPooling1D, Flatten, Dense\n",
    "from tensorflow.keras.layers import Dense, LSTM, GRU, MaxPool1D, SimpleRNN, Flatten, Dropout, Conv1D\n",
    "from sklearn.ensemble import RandomForestClassifier, VotingClassifier"
   ]
  },
  {
   "cell_type": "markdown",
   "id": "3ed0d903",
   "metadata": {},
   "source": [
    "# Importing Dataset"
   ]
  },
  {
   "cell_type": "code",
   "execution_count": 3,
   "id": "a047e0d5",
   "metadata": {},
   "outputs": [],
   "source": [
    "df_users = pd.read_csv(\"dataset/users.csv\")\n",
    "df_fusers = pd.read_csv(\"dataset/fusers.csv\")"
   ]
  },
  {
   "cell_type": "markdown",
   "id": "581030d2",
   "metadata": {},
   "source": [
    "# EDA"
   ]
  },
  {
   "cell_type": "code",
   "execution_count": 4,
   "id": "d7aae001",
   "metadata": {},
   "outputs": [
    {
     "data": {
      "text/html": [
       "<div>\n",
       "<style scoped>\n",
       "    .dataframe tbody tr th:only-of-type {\n",
       "        vertical-align: middle;\n",
       "    }\n",
       "\n",
       "    .dataframe tbody tr th {\n",
       "        vertical-align: top;\n",
       "    }\n",
       "\n",
       "    .dataframe thead th {\n",
       "        text-align: right;\n",
       "    }\n",
       "</style>\n",
       "<table border=\"1\" class=\"dataframe\">\n",
       "  <thead>\n",
       "    <tr style=\"text-align: right;\">\n",
       "      <th></th>\n",
       "      <th>id</th>\n",
       "      <th>name</th>\n",
       "      <th>screen_name</th>\n",
       "      <th>statuses_count</th>\n",
       "      <th>followers_count</th>\n",
       "      <th>friends_count</th>\n",
       "      <th>favourites_count</th>\n",
       "      <th>listed_count</th>\n",
       "      <th>url</th>\n",
       "      <th>lang</th>\n",
       "      <th>...</th>\n",
       "      <th>notifications</th>\n",
       "      <th>description</th>\n",
       "      <th>contributors_enabled</th>\n",
       "      <th>following</th>\n",
       "      <th>created_at</th>\n",
       "      <th>timestamp</th>\n",
       "      <th>crawled_at</th>\n",
       "      <th>updated</th>\n",
       "      <th>test_set_1</th>\n",
       "      <th>test_set_2</th>\n",
       "    </tr>\n",
       "  </thead>\n",
       "  <tbody>\n",
       "    <tr>\n",
       "      <th>0</th>\n",
       "      <td>1502026416</td>\n",
       "      <td>TASUKU HAYAKAWA</td>\n",
       "      <td>0918Bask</td>\n",
       "      <td>2177</td>\n",
       "      <td>208</td>\n",
       "      <td>332</td>\n",
       "      <td>265</td>\n",
       "      <td>1</td>\n",
       "      <td>NaN</td>\n",
       "      <td>ja</td>\n",
       "      <td>...</td>\n",
       "      <td>NaN</td>\n",
       "      <td>15years ago X.Lines24</td>\n",
       "      <td>NaN</td>\n",
       "      <td>NaN</td>\n",
       "      <td>Tue Jun 11 11:20:35 +0000 2013</td>\n",
       "      <td>2013-06-11 13:20:35</td>\n",
       "      <td>2015-05-02 06:41:46</td>\n",
       "      <td>2016-03-15 15:53:47</td>\n",
       "      <td>0</td>\n",
       "      <td>0</td>\n",
       "    </tr>\n",
       "    <tr>\n",
       "      <th>1</th>\n",
       "      <td>2492782375</td>\n",
       "      <td>ro_or</td>\n",
       "      <td>1120Roll</td>\n",
       "      <td>2660</td>\n",
       "      <td>330</td>\n",
       "      <td>485</td>\n",
       "      <td>3972</td>\n",
       "      <td>5</td>\n",
       "      <td>NaN</td>\n",
       "      <td>ja</td>\n",
       "      <td>...</td>\n",
       "      <td>NaN</td>\n",
       "      <td>保守見習い地元大好き人間。 経済学、電工、仏教を勉強中、ちなDeではいかんのか？ (*^◯^*)</td>\n",
       "      <td>NaN</td>\n",
       "      <td>NaN</td>\n",
       "      <td>Tue May 13 10:37:57 +0000 2014</td>\n",
       "      <td>2014-05-13 12:37:57</td>\n",
       "      <td>2015-05-01 17:20:27</td>\n",
       "      <td>2016-03-15 15:53:48</td>\n",
       "      <td>0</td>\n",
       "      <td>0</td>\n",
       "    </tr>\n",
       "    <tr>\n",
       "      <th>2</th>\n",
       "      <td>293212315</td>\n",
       "      <td>bearclaw</td>\n",
       "      <td>14KBBrown</td>\n",
       "      <td>1254</td>\n",
       "      <td>166</td>\n",
       "      <td>177</td>\n",
       "      <td>1185</td>\n",
       "      <td>0</td>\n",
       "      <td>NaN</td>\n",
       "      <td>en</td>\n",
       "      <td>...</td>\n",
       "      <td>NaN</td>\n",
       "      <td>Let me see what your best move is!</td>\n",
       "      <td>NaN</td>\n",
       "      <td>NaN</td>\n",
       "      <td>Wed May 04 23:30:37 +0000 2011</td>\n",
       "      <td>2011-05-05 01:30:37</td>\n",
       "      <td>2015-05-01 18:48:28</td>\n",
       "      <td>2016-03-15 15:53:48</td>\n",
       "      <td>0</td>\n",
       "      <td>0</td>\n",
       "    </tr>\n",
       "    <tr>\n",
       "      <th>3</th>\n",
       "      <td>191839658</td>\n",
       "      <td>pocahontas farida</td>\n",
       "      <td>wadespeters</td>\n",
       "      <td>202968</td>\n",
       "      <td>2248</td>\n",
       "      <td>981</td>\n",
       "      <td>60304</td>\n",
       "      <td>101</td>\n",
       "      <td>http://t.co/rGV0HIJGsu</td>\n",
       "      <td>en</td>\n",
       "      <td>...</td>\n",
       "      <td>NaN</td>\n",
       "      <td>20. menna: #farida #nyc and the 80s actually y...</td>\n",
       "      <td>NaN</td>\n",
       "      <td>NaN</td>\n",
       "      <td>Fri Sep 17 14:02:10 +0000 2010</td>\n",
       "      <td>2010-09-17 16:02:10</td>\n",
       "      <td>2015-05-01 13:55:16</td>\n",
       "      <td>2016-03-15 15:53:48</td>\n",
       "      <td>0</td>\n",
       "      <td>0</td>\n",
       "    </tr>\n",
       "    <tr>\n",
       "      <th>4</th>\n",
       "      <td>3020965143</td>\n",
       "      <td>Ms Kathy</td>\n",
       "      <td>191a5bd05da04dc</td>\n",
       "      <td>82</td>\n",
       "      <td>21</td>\n",
       "      <td>79</td>\n",
       "      <td>5</td>\n",
       "      <td>0</td>\n",
       "      <td>NaN</td>\n",
       "      <td>en</td>\n",
       "      <td>...</td>\n",
       "      <td>NaN</td>\n",
       "      <td>Cosmetologist</td>\n",
       "      <td>NaN</td>\n",
       "      <td>NaN</td>\n",
       "      <td>Fri Feb 06 04:10:49 +0000 2015</td>\n",
       "      <td>2015-02-06 05:10:49</td>\n",
       "      <td>2015-05-02 01:17:32</td>\n",
       "      <td>2016-03-15 15:53:48</td>\n",
       "      <td>0</td>\n",
       "      <td>0</td>\n",
       "    </tr>\n",
       "  </tbody>\n",
       "</table>\n",
       "<p>5 rows × 42 columns</p>\n",
       "</div>"
      ],
      "text/plain": [
       "           id               name      screen_name  statuses_count  \\\n",
       "0  1502026416    TASUKU HAYAKAWA         0918Bask            2177   \n",
       "1  2492782375              ro_or         1120Roll            2660   \n",
       "2   293212315           bearclaw        14KBBrown            1254   \n",
       "3   191839658  pocahontas farida      wadespeters          202968   \n",
       "4  3020965143           Ms Kathy  191a5bd05da04dc              82   \n",
       "\n",
       "   followers_count  friends_count  favourites_count  listed_count  \\\n",
       "0              208            332               265             1   \n",
       "1              330            485              3972             5   \n",
       "2              166            177              1185             0   \n",
       "3             2248            981             60304           101   \n",
       "4               21             79                 5             0   \n",
       "\n",
       "                      url lang  ... notifications  \\\n",
       "0                     NaN   ja  ...           NaN   \n",
       "1                     NaN   ja  ...           NaN   \n",
       "2                     NaN   en  ...           NaN   \n",
       "3  http://t.co/rGV0HIJGsu   en  ...           NaN   \n",
       "4                     NaN   en  ...           NaN   \n",
       "\n",
       "                                         description  contributors_enabled  \\\n",
       "0                              15years ago X.Lines24                   NaN   \n",
       "1   保守見習い地元大好き人間。 経済学、電工、仏教を勉強中、ちなDeではいかんのか？ (*^◯^*)                   NaN   \n",
       "2                 Let me see what your best move is!                   NaN   \n",
       "3  20. menna: #farida #nyc and the 80s actually y...                   NaN   \n",
       "4                                      Cosmetologist                   NaN   \n",
       "\n",
       "   following                      created_at            timestamp  \\\n",
       "0        NaN  Tue Jun 11 11:20:35 +0000 2013  2013-06-11 13:20:35   \n",
       "1        NaN  Tue May 13 10:37:57 +0000 2014  2014-05-13 12:37:57   \n",
       "2        NaN  Wed May 04 23:30:37 +0000 2011  2011-05-05 01:30:37   \n",
       "3        NaN  Fri Sep 17 14:02:10 +0000 2010  2010-09-17 16:02:10   \n",
       "4        NaN  Fri Feb 06 04:10:49 +0000 2015  2015-02-06 05:10:49   \n",
       "\n",
       "            crawled_at              updated test_set_1 test_set_2  \n",
       "0  2015-05-02 06:41:46  2016-03-15 15:53:47          0          0  \n",
       "1  2015-05-01 17:20:27  2016-03-15 15:53:48          0          0  \n",
       "2  2015-05-01 18:48:28  2016-03-15 15:53:48          0          0  \n",
       "3  2015-05-01 13:55:16  2016-03-15 15:53:48          0          0  \n",
       "4  2015-05-02 01:17:32  2016-03-15 15:53:48          0          0  \n",
       "\n",
       "[5 rows x 42 columns]"
      ]
     },
     "execution_count": 4,
     "metadata": {},
     "output_type": "execute_result"
    }
   ],
   "source": [
    "df_users.head()"
   ]
  },
  {
   "cell_type": "code",
   "execution_count": 5,
   "id": "6a5ee231",
   "metadata": {},
   "outputs": [
    {
     "data": {
      "text/html": [
       "<div>\n",
       "<style scoped>\n",
       "    .dataframe tbody tr th:only-of-type {\n",
       "        vertical-align: middle;\n",
       "    }\n",
       "\n",
       "    .dataframe tbody tr th {\n",
       "        vertical-align: top;\n",
       "    }\n",
       "\n",
       "    .dataframe thead th {\n",
       "        text-align: right;\n",
       "    }\n",
       "</style>\n",
       "<table border=\"1\" class=\"dataframe\">\n",
       "  <thead>\n",
       "    <tr style=\"text-align: right;\">\n",
       "      <th></th>\n",
       "      <th>id</th>\n",
       "      <th>name</th>\n",
       "      <th>screen_name</th>\n",
       "      <th>statuses_count</th>\n",
       "      <th>followers_count</th>\n",
       "      <th>friends_count</th>\n",
       "      <th>favourites_count</th>\n",
       "      <th>listed_count</th>\n",
       "      <th>created_at</th>\n",
       "      <th>url</th>\n",
       "      <th>...</th>\n",
       "      <th>utc_offset</th>\n",
       "      <th>is_translator</th>\n",
       "      <th>follow_request_sent</th>\n",
       "      <th>protected</th>\n",
       "      <th>verified</th>\n",
       "      <th>notifications</th>\n",
       "      <th>description</th>\n",
       "      <th>contributors_enabled</th>\n",
       "      <th>following</th>\n",
       "      <th>updated</th>\n",
       "    </tr>\n",
       "  </thead>\n",
       "  <tbody>\n",
       "    <tr>\n",
       "      <th>0</th>\n",
       "      <td>80479674</td>\n",
       "      <td>YI YUAN</td>\n",
       "      <td>yi_twitts</td>\n",
       "      <td>29</td>\n",
       "      <td>19</td>\n",
       "      <td>255</td>\n",
       "      <td>1</td>\n",
       "      <td>0</td>\n",
       "      <td>Wed Oct 07 03:19:21 +0000 2009</td>\n",
       "      <td>http://www.jycondo.com</td>\n",
       "      <td>...</td>\n",
       "      <td>-18000.0</td>\n",
       "      <td>NaN</td>\n",
       "      <td>NaN</td>\n",
       "      <td>NaN</td>\n",
       "      <td>NaN</td>\n",
       "      <td>NaN</td>\n",
       "      <td>real estate sales</td>\n",
       "      <td>NaN</td>\n",
       "      <td>NaN</td>\n",
       "      <td>2013-06-12 18:38:35</td>\n",
       "    </tr>\n",
       "    <tr>\n",
       "      <th>1</th>\n",
       "      <td>82487179</td>\n",
       "      <td>Marcos Perez C</td>\n",
       "      <td>marcos_peca</td>\n",
       "      <td>1408</td>\n",
       "      <td>208</td>\n",
       "      <td>866</td>\n",
       "      <td>138</td>\n",
       "      <td>0</td>\n",
       "      <td>Wed Oct 14 23:40:17 +0000 2009</td>\n",
       "      <td>NaN</td>\n",
       "      <td>...</td>\n",
       "      <td>-21600.0</td>\n",
       "      <td>NaN</td>\n",
       "      <td>NaN</td>\n",
       "      <td>NaN</td>\n",
       "      <td>NaN</td>\n",
       "      <td>NaN</td>\n",
       "      <td>NaN</td>\n",
       "      <td>NaN</td>\n",
       "      <td>NaN</td>\n",
       "      <td>2013-06-12 18:38:35</td>\n",
       "    </tr>\n",
       "    <tr>\n",
       "      <th>2</th>\n",
       "      <td>105830531</td>\n",
       "      <td>curti lorenzo</td>\n",
       "      <td>curtilorenzo</td>\n",
       "      <td>39</td>\n",
       "      <td>59</td>\n",
       "      <td>962</td>\n",
       "      <td>8</td>\n",
       "      <td>0</td>\n",
       "      <td>Sun Jan 17 16:46:52 +0000 2010</td>\n",
       "      <td>http://www.valcavargna.com/</td>\n",
       "      <td>...</td>\n",
       "      <td>0.0</td>\n",
       "      <td>NaN</td>\n",
       "      <td>NaN</td>\n",
       "      <td>NaN</td>\n",
       "      <td>NaN</td>\n",
       "      <td>NaN</td>\n",
       "      <td>le corna del capro scappato dal gregge s'infil...</td>\n",
       "      <td>NaN</td>\n",
       "      <td>NaN</td>\n",
       "      <td>2013-06-12 18:38:35</td>\n",
       "    </tr>\n",
       "    <tr>\n",
       "      <th>3</th>\n",
       "      <td>114488344</td>\n",
       "      <td>ruben dario toscano</td>\n",
       "      <td>gatito2710</td>\n",
       "      <td>59</td>\n",
       "      <td>7</td>\n",
       "      <td>49</td>\n",
       "      <td>4</td>\n",
       "      <td>0</td>\n",
       "      <td>Mon Feb 15 15:49:58 +0000 2010</td>\n",
       "      <td>NaN</td>\n",
       "      <td>...</td>\n",
       "      <td>-18000.0</td>\n",
       "      <td>NaN</td>\n",
       "      <td>NaN</td>\n",
       "      <td>NaN</td>\n",
       "      <td>NaN</td>\n",
       "      <td>NaN</td>\n",
       "      <td>NaN</td>\n",
       "      <td>NaN</td>\n",
       "      <td>NaN</td>\n",
       "      <td>2013-06-12 18:38:35</td>\n",
       "    </tr>\n",
       "    <tr>\n",
       "      <th>4</th>\n",
       "      <td>123222267</td>\n",
       "      <td>Malek Khalaf</td>\n",
       "      <td>MalekKhalaf</td>\n",
       "      <td>987</td>\n",
       "      <td>60</td>\n",
       "      <td>521</td>\n",
       "      <td>61</td>\n",
       "      <td>1</td>\n",
       "      <td>Mon Mar 15 11:38:55 +0000 2010</td>\n",
       "      <td>http://www.facebook.com/Malek.AlBalawi</td>\n",
       "      <td>...</td>\n",
       "      <td>10800.0</td>\n",
       "      <td>NaN</td>\n",
       "      <td>NaN</td>\n",
       "      <td>NaN</td>\n",
       "      <td>NaN</td>\n",
       "      <td>NaN</td>\n",
       "      <td>MA student at JU, Interested in Juventus,Italy...</td>\n",
       "      <td>NaN</td>\n",
       "      <td>NaN</td>\n",
       "      <td>2013-06-11 17:39:44</td>\n",
       "    </tr>\n",
       "  </tbody>\n",
       "</table>\n",
       "<p>5 rows × 38 columns</p>\n",
       "</div>"
      ],
      "text/plain": [
       "          id                  name   screen_name  statuses_count  \\\n",
       "0   80479674               YI YUAN     yi_twitts              29   \n",
       "1   82487179        Marcos Perez C   marcos_peca            1408   \n",
       "2  105830531         curti lorenzo  curtilorenzo              39   \n",
       "3  114488344  ruben dario toscano     gatito2710              59   \n",
       "4  123222267          Malek Khalaf   MalekKhalaf             987   \n",
       "\n",
       "   followers_count  friends_count  favourites_count  listed_count  \\\n",
       "0               19            255                 1             0   \n",
       "1              208            866               138             0   \n",
       "2               59            962                 8             0   \n",
       "3                7             49                 4             0   \n",
       "4               60            521                61             1   \n",
       "\n",
       "                       created_at                                     url  \\\n",
       "0  Wed Oct 07 03:19:21 +0000 2009                  http://www.jycondo.com   \n",
       "1  Wed Oct 14 23:40:17 +0000 2009                                     NaN   \n",
       "2  Sun Jan 17 16:46:52 +0000 2010             http://www.valcavargna.com/   \n",
       "3  Mon Feb 15 15:49:58 +0000 2010                                     NaN   \n",
       "4  Mon Mar 15 11:38:55 +0000 2010  http://www.facebook.com/Malek.AlBalawi   \n",
       "\n",
       "   ... utc_offset is_translator follow_request_sent  protected  verified  \\\n",
       "0  ...   -18000.0           NaN                 NaN        NaN       NaN   \n",
       "1  ...   -21600.0           NaN                 NaN        NaN       NaN   \n",
       "2  ...        0.0           NaN                 NaN        NaN       NaN   \n",
       "3  ...   -18000.0           NaN                 NaN        NaN       NaN   \n",
       "4  ...    10800.0           NaN                 NaN        NaN       NaN   \n",
       "\n",
       "   notifications                                        description  \\\n",
       "0            NaN                                 real estate sales    \n",
       "1            NaN                                                NaN   \n",
       "2            NaN  le corna del capro scappato dal gregge s'infil...   \n",
       "3            NaN                                                NaN   \n",
       "4            NaN  MA student at JU, Interested in Juventus,Italy...   \n",
       "\n",
       "  contributors_enabled  following              updated  \n",
       "0                  NaN        NaN  2013-06-12 18:38:35  \n",
       "1                  NaN        NaN  2013-06-12 18:38:35  \n",
       "2                  NaN        NaN  2013-06-12 18:38:35  \n",
       "3                  NaN        NaN  2013-06-12 18:38:35  \n",
       "4                  NaN        NaN  2013-06-11 17:39:44  \n",
       "\n",
       "[5 rows x 38 columns]"
      ]
     },
     "execution_count": 5,
     "metadata": {},
     "output_type": "execute_result"
    }
   ],
   "source": [
    "df_fusers.head()"
   ]
  },
  {
   "cell_type": "code",
   "execution_count": 6,
   "id": "174ba307",
   "metadata": {},
   "outputs": [
    {
     "name": "stdout",
     "output_type": "stream",
     "text": [
      "<class 'pandas.core.frame.DataFrame'>\n",
      "RangeIndex: 3351 entries, 0 to 3350\n",
      "Data columns (total 38 columns):\n",
      " #   Column                              Non-Null Count  Dtype  \n",
      "---  ------                              --------------  -----  \n",
      " 0   id                                  3351 non-null   int64  \n",
      " 1   name                                3351 non-null   object \n",
      " 2   screen_name                         3351 non-null   object \n",
      " 3   statuses_count                      3351 non-null   int64  \n",
      " 4   followers_count                     3351 non-null   int64  \n",
      " 5   friends_count                       3351 non-null   int64  \n",
      " 6   favourites_count                    3351 non-null   int64  \n",
      " 7   listed_count                        3351 non-null   int64  \n",
      " 8   created_at                          3351 non-null   object \n",
      " 9   url                                 101 non-null    object \n",
      " 10  lang                                3351 non-null   object \n",
      " 11  time_zone                           335 non-null    object \n",
      " 12  location                            2776 non-null   object \n",
      " 13  default_profile                     3034 non-null   float64\n",
      " 14  default_profile_image               6 non-null      float64\n",
      " 15  geo_enabled                         139 non-null    float64\n",
      " 16  profile_image_url                   3351 non-null   object \n",
      " 17  profile_banner_url                  67 non-null     object \n",
      " 18  profile_use_background_image        3342 non-null   float64\n",
      " 19  profile_background_image_url_https  3351 non-null   object \n",
      " 20  profile_text_color                  3351 non-null   object \n",
      " 21  profile_image_url_https             3351 non-null   object \n",
      " 22  profile_sidebar_border_color        3351 non-null   object \n",
      " 23  profile_background_tile             170 non-null    float64\n",
      " 24  profile_sidebar_fill_color          3351 non-null   object \n",
      " 25  profile_background_image_url        3351 non-null   object \n",
      " 26  profile_background_color            3351 non-null   object \n",
      " 27  profile_link_color                  3351 non-null   object \n",
      " 28  utc_offset                          335 non-null    float64\n",
      " 29  is_translator                       0 non-null      float64\n",
      " 30  follow_request_sent                 0 non-null      float64\n",
      " 31  protected                           0 non-null      float64\n",
      " 32  verified                            0 non-null      float64\n",
      " 33  notifications                       0 non-null      float64\n",
      " 34  description                         2278 non-null   object \n",
      " 35  contributors_enabled                0 non-null      float64\n",
      " 36  following                           0 non-null      float64\n",
      " 37  updated                             3351 non-null   object \n",
      "dtypes: float64(13), int64(6), object(19)\n",
      "memory usage: 995.0+ KB\n"
     ]
    }
   ],
   "source": [
    "df_fusers.info()"
   ]
  },
  {
   "cell_type": "code",
   "execution_count": 7,
   "id": "f8365b73",
   "metadata": {},
   "outputs": [
    {
     "name": "stdout",
     "output_type": "stream",
     "text": [
      "<class 'pandas.core.frame.DataFrame'>\n",
      "RangeIndex: 3474 entries, 0 to 3473\n",
      "Data columns (total 42 columns):\n",
      " #   Column                              Non-Null Count  Dtype  \n",
      "---  ------                              --------------  -----  \n",
      " 0   id                                  3474 non-null   int64  \n",
      " 1   name                                3473 non-null   object \n",
      " 2   screen_name                         3474 non-null   object \n",
      " 3   statuses_count                      3474 non-null   int64  \n",
      " 4   followers_count                     3474 non-null   int64  \n",
      " 5   friends_count                       3474 non-null   int64  \n",
      " 6   favourites_count                    3474 non-null   int64  \n",
      " 7   listed_count                        3474 non-null   int64  \n",
      " 8   url                                 1266 non-null   object \n",
      " 9   lang                                3474 non-null   object \n",
      " 10  time_zone                           2475 non-null   object \n",
      " 11  location                            2365 non-null   object \n",
      " 12  default_profile                     1032 non-null   float64\n",
      " 13  default_profile_image               13 non-null     float64\n",
      " 14  geo_enabled                         2155 non-null   float64\n",
      " 15  profile_image_url                   3474 non-null   object \n",
      " 16  profile_banner_url                  3165 non-null   object \n",
      " 17  profile_use_background_image        3084 non-null   float64\n",
      " 18  profile_background_image_url_https  3474 non-null   object \n",
      " 19  profile_text_color                  3474 non-null   object \n",
      " 20  profile_image_url_https             3474 non-null   object \n",
      " 21  profile_sidebar_border_color        3474 non-null   object \n",
      " 22  profile_background_tile             1307 non-null   float64\n",
      " 23  profile_sidebar_fill_color          3474 non-null   object \n",
      " 24  profile_background_image_url        3474 non-null   object \n",
      " 25  profile_background_color            3474 non-null   object \n",
      " 26  profile_link_color                  3474 non-null   object \n",
      " 27  utc_offset                          2475 non-null   float64\n",
      " 28  is_translator                       1 non-null      float64\n",
      " 29  follow_request_sent                 0 non-null      float64\n",
      " 30  protected                           78 non-null     float64\n",
      " 31  verified                            11 non-null     float64\n",
      " 32  notifications                       0 non-null      float64\n",
      " 33  description                         3095 non-null   object \n",
      " 34  contributors_enabled                0 non-null      float64\n",
      " 35  following                           0 non-null      float64\n",
      " 36  created_at                          3474 non-null   object \n",
      " 37  timestamp                           3474 non-null   object \n",
      " 38  crawled_at                          3474 non-null   object \n",
      " 39  updated                             3474 non-null   object \n",
      " 40  test_set_1                          3474 non-null   int64  \n",
      " 41  test_set_2                          3474 non-null   int64  \n",
      "dtypes: float64(13), int64(8), object(21)\n",
      "memory usage: 1.1+ MB\n"
     ]
    }
   ],
   "source": [
    "df_users.info()"
   ]
  },
  {
   "cell_type": "code",
   "execution_count": 8,
   "id": "4dd5187e",
   "metadata": {},
   "outputs": [],
   "source": [
    "isNotFake = np.zeros(3474)\n",
    "\n",
    "\n",
    "isFake = np.ones(3351)"
   ]
  },
  {
   "cell_type": "code",
   "execution_count": 9,
   "id": "3b383e29",
   "metadata": {},
   "outputs": [],
   "source": [
    "df_fusers[\"isFake\"] = isFake\n",
    "df_users[\"isFake\"] = isNotFake"
   ]
  },
  {
   "cell_type": "code",
   "execution_count": 10,
   "id": "3477c711",
   "metadata": {},
   "outputs": [],
   "source": [
    "df_allUsers = pd.concat([df_fusers, df_users], ignore_index=True)\n",
    "df_allUsers.columns = df_allUsers.columns.str.strip()"
   ]
  },
  {
   "cell_type": "code",
   "execution_count": 11,
   "id": "063981f9",
   "metadata": {},
   "outputs": [],
   "source": [
    "df_allUsers = df_allUsers.sample(frac=1).reset_index(drop=True)"
   ]
  },
  {
   "cell_type": "code",
   "execution_count": 12,
   "id": "50fedd4a",
   "metadata": {},
   "outputs": [],
   "source": [
    "Y = df_allUsers.isFake"
   ]
  },
  {
   "cell_type": "code",
   "execution_count": 13,
   "id": "77de0d30",
   "metadata": {},
   "outputs": [],
   "source": [
    "df_allUsers.drop([\"isFake\"], axis=1, inplace=True)\n",
    "X = df_allUsers"
   ]
  },
  {
   "cell_type": "code",
   "execution_count": 14,
   "id": "b6b10470",
   "metadata": {},
   "outputs": [],
   "source": [
    "Y.reset_index(drop=True, inplace=True)"
   ]
  },
  {
   "cell_type": "code",
   "execution_count": 15,
   "id": "cafab1e7",
   "metadata": {},
   "outputs": [],
   "source": [
    "lang_list = list(enumerate(np.unique(X[\"lang\"])))\n",
    "lang_dict = {name : i for i, name in lang_list}\n",
    "X.loc[:, \"lang_num\"] = X[\"lang\"].map(lambda x: lang_dict[x]).astype(int)\n",
    "\n",
    "X.drop([\"name\"], axis=1, inplace=True)"
   ]
  },
  {
   "cell_type": "markdown",
   "id": "60f52a5c",
   "metadata": {},
   "source": [
    "# Feature Selection"
   ]
  },
  {
   "cell_type": "code",
   "execution_count": 16,
   "id": "c51d081f",
   "metadata": {},
   "outputs": [],
   "source": [
    "X = X[[\n",
    "    \"statuses_count\",\n",
    "    \"followers_count\",\n",
    "    \"friends_count\",\n",
    "    \"favourites_count\",\n",
    "    \"lang_num\",\n",
    "    \"listed_count\",\n",
    "    \"geo_enabled\",\n",
    "    \"profile_use_background_image\"\n",
    "                        ]]"
   ]
  },
  {
   "cell_type": "code",
   "execution_count": 17,
   "id": "9d9428b0",
   "metadata": {},
   "outputs": [],
   "source": [
    "X = X.replace(np.nan, 0)"
   ]
  },
  {
   "cell_type": "markdown",
   "id": "9cc72abf",
   "metadata": {},
   "source": [
    "# Data visualization"
   ]
  },
  {
   "cell_type": "code",
   "execution_count": 18,
   "id": "1d2a275a",
   "metadata": {},
   "outputs": [
    {
     "data": {
      "image/png": "[encoded data removed]",
      "text/plain": [
       "<Figure size 864x576 with 5 Axes>"
      ]
     },
     "metadata": {
      "needs_background": "light"
     },
     "output_type": "display_data"
    }
   ],
   "source": [
    "numerical_columns = ['statuses_count', 'followers_count', 'friends_count', 'favourites_count', 'listed_count']\n",
    "plt.figure(figsize=(12, 8))\n",
    "for i, column in enumerate(numerical_columns, 1):\n",
    "    plt.subplot(3, 2, i)\n",
    "    sns.histplot(X[column], bins=30, kde=True)\n",
    "    plt.title(column)\n",
    "plt.tight_layout()\n",
    "plt.show()"
   ]
  },
  {
   "cell_type": "code",
   "execution_count": 19,
   "id": "6348277e",
   "metadata": {},
   "outputs": [
    {
     "data": {
      "image/png": "[encoded data removed]",
      "text/plain": [
       "<Figure size 432x288 with 1 Axes>"
      ]
     },
     "metadata": {
      "needs_background": "light"
     },
     "output_type": "display_data"
    }
   ],
   "source": [
    "sns.countplot(x='statuses_count', data=X)\n",
    "plt.title('Distribution of statuses count')\n",
    "plt.xlabel('statuses count')\n",
    "plt.ylabel('Count')\n",
    "plt.show()"
   ]
  },
  {
   "cell_type": "code",
   "execution_count": 20,
   "id": "5fbe7e3a",
   "metadata": {},
   "outputs": [
    {
     "data": {
      "image/png": "[encoded data removed]",
      "text/plain": [
       "<Figure size 576x432 with 1 Axes>"
      ]
     },
     "metadata": {
      "needs_background": "light"
     },
     "output_type": "display_data"
    }
   ],
   "source": [
    "plt.figure(figsize=(8, 6))\n",
    "sns.countplot(x='lang_num', data=X)\n",
    "plt.title('Language Distribution')\n",
    "plt.xlabel('Language Number')\n",
    "plt.ylabel('Count')\n",
    "plt.show()"
   ]
  },
  {
   "cell_type": "code",
   "execution_count": 21,
   "id": "89c4d9ff",
   "metadata": {},
   "outputs": [
    {
     "data": {
      "image/png": "[encoded data removed]",
      "text/plain": [
       "<Figure size 576x432 with 1 Axes>"
      ]
     },
     "metadata": {
      "needs_background": "light"
     },
     "output_type": "display_data"
    }
   ],
   "source": [
    "plt.figure(figsize=(8, 6))\n",
    "sns.barplot(x=X['geo_enabled'].value_counts().index, y=X['geo_enabled'].value_counts().values)\n",
    "plt.title('Geo-enabled Distribution')\n",
    "plt.xlabel('Geo-enabled')\n",
    "plt.ylabel('Count')\n",
    "plt.show()"
   ]
  },
  {
   "cell_type": "code",
   "execution_count": 22,
   "id": "d95505a9",
   "metadata": {},
   "outputs": [
    {
     "data": {
      "image/png": "[encoded data removed]",
      "text/plain": [
       "<Figure size 576x432 with 1 Axes>"
      ]
     },
     "metadata": {
      "needs_background": "light"
     },
     "output_type": "display_data"
    }
   ],
   "source": [
    "plt.figure(figsize=(8, 6))\n",
    "sns.barplot(x=X['profile_use_background_image'].value_counts().index, y=X['profile_use_background_image'].value_counts().values)\n",
    "plt.title('Profile Use Background Image Distribution')\n",
    "plt.xlabel('Profile Uses Background Image')\n",
    "plt.ylabel('Count')\n",
    "plt.show()"
   ]
  },
  {
   "cell_type": "markdown",
   "id": "f9d0bda8",
   "metadata": {},
   "source": [
    "# Model Building"
   ]
  },
  {
   "cell_type": "code",
   "execution_count": 23,
   "id": "6c1449c7",
   "metadata": {},
   "outputs": [],
   "source": [
    "X_train, X_test , y_train , y_test = train_test_split(X, Y, test_size=0.2, random_state=0)"
   ]
  },
  {
   "cell_type": "markdown",
   "id": "f733d2d5",
   "metadata": {},
   "source": [
    "# ANN"
   ]
  },
  {
   "cell_type": "code",
   "execution_count": 24,
   "id": "e949cc42",
   "metadata": {},
   "outputs": [
    {
     "name": "stdout",
     "output_type": "stream",
     "text": [
      "Model: \"sequential\"\n",
      "_________________________________________________________________\n",
      "Layer (type)                 Output Shape              Param #   \n",
      "=================================================================\n",
      "dense (Dense)                (None, 32)                288       \n",
      "_________________________________________________________________\n",
      "dense_1 (Dense)              (None, 64)                2112      \n",
      "_________________________________________________________________\n",
      "dense_2 (Dense)              (None, 64)                4160      \n",
      "_________________________________________________________________\n",
      "dense_3 (Dense)              (None, 32)                2080      \n",
      "_________________________________________________________________\n",
      "dense_4 (Dense)              (None, 1)                 33        \n",
      "=================================================================\n",
      "Total params: 8,673\n",
      "Trainable params: 8,673\n",
      "Non-trainable params: 0\n",
      "_________________________________________________________________\n"
     ]
    }
   ],
   "source": [
    "model = Sequential()\n",
    "model.add(Dense(32, activation='relu', input_dim=8))\n",
    "model.add(Dense(64, input_dim=32, activation='relu'))\n",
    "model.add(Dense(64, input_dim=64, activation='relu'))\n",
    "model.add(Dense(32,input_dim=64, activation='relu'))\n",
    "model.add(Dense(1, activation='sigmoid'))\n",
    "model.summary()"
   ]
  },
  {
   "cell_type": "code",
   "execution_count": 25,
   "id": "2fab3207",
   "metadata": {},
   "outputs": [
    {
     "name": "stdout",
     "output_type": "stream",
     "text": [
      "Epoch 1/15\n",
      "171/171 [==============================] - 2s 2ms/step - loss: 13.7560 - accuracy: 0.9271 - val_loss: 1.4329 - val_accuracy: 0.9846\n",
      "Epoch 2/15\n",
      "171/171 [==============================] - 0s 2ms/step - loss: 0.4898 - accuracy: 0.9808 - val_loss: 0.6741 - val_accuracy: 0.9458\n",
      "Epoch 3/15\n",
      "171/171 [==============================] - 0s 1ms/step - loss: 1.1546 - accuracy: 0.9700 - val_loss: 0.8963 - val_accuracy: 0.9795\n",
      "Epoch 4/15\n",
      "171/171 [==============================] - 0s 1ms/step - loss: 0.8437 - accuracy: 0.9793 - val_loss: 4.9829 - val_accuracy: 0.9795\n",
      "Epoch 5/15\n",
      "171/171 [==============================] - 0s 1ms/step - loss: 0.6473 - accuracy: 0.9806 - val_loss: 0.9762 - val_accuracy: 0.9751\n",
      "Epoch 6/15\n",
      "171/171 [==============================] - 0s 2ms/step - loss: 0.3905 - accuracy: 0.9800 - val_loss: 0.4608 - val_accuracy: 0.9875\n",
      "Epoch 7/15\n",
      "171/171 [==============================] - 0s 2ms/step - loss: 1.3411 - accuracy: 0.9767 - val_loss: 4.7004 - val_accuracy: 0.9817\n",
      "Epoch 8/15\n",
      "171/171 [==============================] - 0s 1ms/step - loss: 0.6986 - accuracy: 0.9764 - val_loss: 1.5215 - val_accuracy: 0.9832\n",
      "Epoch 9/15\n",
      "171/171 [==============================] - 0s 1ms/step - loss: 0.2583 - accuracy: 0.9815 - val_loss: 0.4944 - val_accuracy: 0.9861\n",
      "Epoch 10/15\n",
      "171/171 [==============================] - 0s 1ms/step - loss: 0.1798 - accuracy: 0.9832 - val_loss: 0.5207 - val_accuracy: 0.9641\n",
      "Epoch 11/15\n",
      "171/171 [==============================] - 0s 1ms/step - loss: 0.3550 - accuracy: 0.9813 - val_loss: 1.8298 - val_accuracy: 0.9846\n",
      "Epoch 12/15\n",
      "171/171 [==============================] - 0s 1ms/step - loss: 0.2499 - accuracy: 0.9793 - val_loss: 0.3767 - val_accuracy: 0.9729\n",
      "Epoch 13/15\n",
      "171/171 [==============================] - 0s 1ms/step - loss: 0.1549 - accuracy: 0.9826 - val_loss: 0.5945 - val_accuracy: 0.9875\n",
      "Epoch 14/15\n",
      "171/171 [==============================] - 0s 1ms/step - loss: 0.3125 - accuracy: 0.9848 - val_loss: 0.6138 - val_accuracy: 0.9883\n",
      "Epoch 15/15\n",
      "171/171 [==============================] - 0s 1ms/step - loss: 0.1428 - accuracy: 0.9835 - val_loss: 1.2657 - val_accuracy: 0.9795\n"
     ]
    }
   ],
   "source": [
    "model.compile(optimizer='adam',loss='binary_crossentropy',metrics=['accuracy'])\n",
    "history = model.fit(X_train, y_train,\n",
    "                    epochs=15,\n",
    "                    verbose=1,\n",
    "                    validation_data=(X_test,y_test))"
   ]
  },
  {
   "cell_type": "code",
   "execution_count": 26,
   "id": "592b643a",
   "metadata": {},
   "outputs": [
    {
     "data": {
      "image/png": "[encoded data removed]",
      "text/plain": [
       "<Figure size 432x288 with 1 Axes>"
      ]
     },
     "metadata": {
      "needs_background": "light"
     },
     "output_type": "display_data"
    },
    {
     "data": {
      "image/png": "[encoded data removed]",
      "text/plain": [
       "<Figure size 432x288 with 1 Axes>"
      ]
     },
     "metadata": {
      "needs_background": "light"
     },
     "output_type": "display_data"
    }
   ],
   "source": [
    "plt.plot(history.history['loss'])\n",
    "plt.plot(history.history['val_loss'])\n",
    "plt.title('Model loss')\n",
    "plt.ylabel('Loss')\n",
    "plt.xlabel('Epoch')\n",
    "plt.legend(['Train', 'Validation'], loc='upper left')\n",
    "plt.savefig('loss.png', format='png', dpi=1200)\n",
    "plt.show()\n",
    "\n",
    "\n",
    "# Plot training & validation accuracy values\n",
    "plt.plot(history.history['accuracy'])\n",
    "plt.plot(history.history['val_accuracy'])\n",
    "plt.title('Model accuracy')\n",
    "plt.ylabel('Accuracy')\n",
    "plt.xlabel('Epoch')\n",
    "plt.legend(['Train', 'Validation'], loc='upper left')\n",
    "plt.savefig('accuracy.png', format='png', dpi=1200)\n",
    "plt.show()"
   ]
  },
  {
   "cell_type": "code",
   "execution_count": 27,
   "id": "fb90b861",
   "metadata": {},
   "outputs": [],
   "source": [
    "model.save('models/ann.h5')"
   ]
  },
  {
   "cell_type": "code",
   "execution_count": 28,
   "id": "06b61e6f",
   "metadata": {},
   "outputs": [
    {
     "name": "stdout",
     "output_type": "stream",
     "text": [
      "43/43 [==============================] - 0s 471us/step\n"
     ]
    }
   ],
   "source": [
    "y_pred = model.predict(X_test, verbose=1)\n",
    "y_pred = np.argmax(y_pred,axis=1)\n",
    "\n",
    "rnn_acc = accuracy_score(y_pred, y_test)\n",
    "rnn_prec = precision_score(y_pred, y_test,average='weighted')\n",
    "rnn_rec = recall_score(y_pred, y_test,average='weighted')\n",
    "rnn_f1 = f1_score(y_pred, y_test,average='weighted')"
   ]
  },
  {
   "cell_type": "markdown",
   "id": "a9500d97",
   "metadata": {},
   "source": [
    "# Random Forest"
   ]
  },
  {
   "cell_type": "code",
   "execution_count": 29,
   "id": "9152ac58",
   "metadata": {},
   "outputs": [],
   "source": [
    "X_train, X_test , y_train , y_test = train_test_split(X, Y, test_size=0.2, random_state=0)"
   ]
  },
  {
   "cell_type": "code",
   "execution_count": 30,
   "id": "bc85170c",
   "metadata": {},
   "outputs": [],
   "source": [
    "rf = RandomForestClassifier(max_depth=2, random_state=0)\n",
    "rf.fit(X_train, y_train)\n",
    "\n",
    "y_pred = rf.predict(X_test)\n",
    "\n",
    "rf_acc = accuracy_score(y_pred, y_test)\n",
    "rf_prec = precision_score(y_pred, y_test,average='weighted')\n",
    "rf_rec = recall_score(y_pred, y_test,average='weighted')\n",
    "rf_f1 = f1_score(y_pred, y_test,average='weighted')"
   ]
  },
  {
   "cell_type": "markdown",
   "id": "14813f77",
   "metadata": {},
   "source": [
    "# Extreme Gradient Boost"
   ]
  },
  {
   "cell_type": "code",
   "execution_count": 31,
   "id": "fe89cb97",
   "metadata": {},
   "outputs": [],
   "source": [
    "gb = GradientBoostingClassifier(n_estimators=100, learning_rate=1.0, max_depth=1, random_state=0)\n",
    "gb.fit(X_train, y_train)\n",
    "\n",
    "y_pred = gb.predict(X_test)\n",
    "\n",
    "gb_acc = accuracy_score(y_pred, y_test)\n",
    "gb_prec = precision_score(y_pred, y_test,average='weighted')\n",
    "gb_rec = recall_score(y_pred, y_test,average='weighted')\n",
    "gb_f1 = f1_score(y_pred, y_test,average='weighted')"
   ]
  },
  {
   "cell_type": "markdown",
   "id": "ecc37706",
   "metadata": {},
   "source": [
    "# LSTM"
   ]
  },
  {
   "cell_type": "code",
   "execution_count": 32,
   "id": "cf2d43c0",
   "metadata": {},
   "outputs": [],
   "source": [
    "X_train_array = X_train.values\n",
    "X_train_reshaped = np.reshape(X_train_array, (X_train_array.shape[0], 1, X_train_array.shape[1]))\n",
    "X_test_array = X_test.values\n",
    "X_test_reshaped = np.reshape(X_test_array, (X_test_array.shape[0], 1, X_test_array.shape[1]))"
   ]
  },
  {
   "cell_type": "code",
   "execution_count": 33,
   "id": "5eeeebb2",
   "metadata": {},
   "outputs": [
    {
     "name": "stdout",
     "output_type": "stream",
     "text": [
      "WARNING:tensorflow:Layer lstm will not use cuDNN kernels since it doesn't meet the criteria. It will use a generic GPU kernel as fallback when running on GPU.\n",
      "Model: \"sequential_1\"\n",
      "_________________________________________________________________\n",
      "Layer (type)                 Output Shape              Param #   \n",
      "=================================================================\n",
      "lstm (LSTM)                  (None, 32)                5248      \n",
      "_________________________________________________________________\n",
      "dense_5 (Dense)              (None, 64)                2112      \n",
      "_________________________________________________________________\n",
      "dense_6 (Dense)              (None, 64)                4160      \n",
      "_________________________________________________________________\n",
      "dense_7 (Dense)              (None, 32)                2080      \n",
      "_________________________________________________________________\n",
      "dense_8 (Dense)              (None, 1)                 33        \n",
      "=================================================================\n",
      "Total params: 13,633\n",
      "Trainable params: 13,633\n",
      "Non-trainable params: 0\n",
      "_________________________________________________________________\n"
     ]
    }
   ],
   "source": [
    "model = Sequential()\n",
    "model.add(LSTM(32, input_shape=(1, 8), activation='relu'))  \n",
    "model.add(Dense(64, activation='relu'))\n",
    "model.add(Dense(64, activation='relu'))  \n",
    "model.add(Dense(32, activation='relu'))  \n",
    "model.add(Dense(1, activation='sigmoid'))\n",
    "model.summary()"
   ]
  },
  {
   "cell_type": "code",
   "execution_count": 34,
   "id": "db0e31a2",
   "metadata": {},
   "outputs": [
    {
     "name": "stdout",
     "output_type": "stream",
     "text": [
      "Epoch 1/15\n",
      "171/171 [==============================] - 1s 3ms/step - loss: 0.1827 - accuracy: 0.9678 - val_loss: 0.1212 - val_accuracy: 0.9883\n",
      "Epoch 2/15\n",
      "171/171 [==============================] - 0s 3ms/step - loss: 0.1738 - accuracy: 0.9839 - val_loss: 1.4740 - val_accuracy: 0.9590\n",
      "Epoch 3/15\n",
      "171/171 [==============================] - 0s 3ms/step - loss: 0.2085 - accuracy: 0.9848 - val_loss: 0.1518 - val_accuracy: 0.9832\n",
      "Epoch 4/15\n",
      "171/171 [==============================] - 0s 3ms/step - loss: 0.1037 - accuracy: 0.9859 - val_loss: 0.2062 - val_accuracy: 0.9773\n",
      "Epoch 5/15\n",
      "171/171 [==============================] - 0s 3ms/step - loss: 0.1017 - accuracy: 0.9824 - val_loss: 0.0861 - val_accuracy: 0.9861\n",
      "Epoch 6/15\n",
      "171/171 [==============================] - 0s 3ms/step - loss: 0.0690 - accuracy: 0.9857 - val_loss: 0.0899 - val_accuracy: 0.9868\n",
      "Epoch 7/15\n",
      "171/171 [==============================] - 0s 3ms/step - loss: 0.1067 - accuracy: 0.9832 - val_loss: 0.1293 - val_accuracy: 0.9700\n",
      "Epoch 8/15\n",
      "171/171 [==============================] - 0s 3ms/step - loss: 0.0802 - accuracy: 0.9850 - val_loss: 0.0711 - val_accuracy: 0.9883\n",
      "Epoch 9/15\n",
      "171/171 [==============================] - 0s 3ms/step - loss: 0.0490 - accuracy: 0.9885 - val_loss: 0.1337 - val_accuracy: 0.9890\n",
      "Epoch 10/15\n",
      "171/171 [==============================] - 0s 3ms/step - loss: 0.0483 - accuracy: 0.9894 - val_loss: 0.0872 - val_accuracy: 0.9875\n",
      "Epoch 11/15\n",
      "171/171 [==============================] - 0s 3ms/step - loss: 0.0799 - accuracy: 0.9875 - val_loss: 0.3938 - val_accuracy: 0.9868\n",
      "Epoch 12/15\n",
      "171/171 [==============================] - 0s 3ms/step - loss: 0.0949 - accuracy: 0.9857 - val_loss: 0.2977 - val_accuracy: 0.9897\n",
      "Epoch 13/15\n",
      "171/171 [==============================] - 0s 3ms/step - loss: 0.0779 - accuracy: 0.9872 - val_loss: 0.1891 - val_accuracy: 0.9897\n",
      "Epoch 14/15\n",
      "171/171 [==============================] - 0s 3ms/step - loss: 0.0610 - accuracy: 0.9861 - val_loss: 0.1831 - val_accuracy: 0.9846\n",
      "Epoch 15/15\n",
      "171/171 [==============================] - 0s 3ms/step - loss: 0.0523 - accuracy: 0.9879 - val_loss: 0.1500 - val_accuracy: 0.9912\n"
     ]
    }
   ],
   "source": [
    "model.compile(optimizer='adam',loss='binary_crossentropy',metrics=['accuracy'])\n",
    "history = model.fit(X_train_reshaped, y_train,\n",
    "                    epochs=15,\n",
    "                    verbose=1,\n",
    "                    validation_data=(X_test_reshaped,y_test))"
   ]
  },
  {
   "cell_type": "code",
   "execution_count": 35,
   "id": "92c13dd4",
   "metadata": {},
   "outputs": [
    {
     "data": {
      "image/png": "[encoded data removed]",
      "text/plain": [
       "<Figure size 432x288 with 1 Axes>"
      ]
     },
     "metadata": {
      "needs_background": "light"
     },
     "output_type": "display_data"
    },
    {
     "data": {
      "image/png": "[encoded data removed]",
      "text/plain": [
       "<Figure size 432x288 with 1 Axes>"
      ]
     },
     "metadata": {
      "needs_background": "light"
     },
     "output_type": "display_data"
    }
   ],
   "source": [
    "plt.plot(history.history['loss'])\n",
    "plt.plot(history.history['val_loss'])\n",
    "plt.title('Model loss')\n",
    "plt.ylabel('Loss')\n",
    "plt.xlabel('Epoch')\n",
    "plt.legend(['Train', 'Validation'], loc='upper left')\n",
    "plt.savefig('loss.png', format='png', dpi=1200)\n",
    "plt.show()\n",
    "\n",
    "\n",
    "# Plot training & validation accuracy values\n",
    "plt.plot(history.history['accuracy'])\n",
    "plt.plot(history.history['val_accuracy'])\n",
    "plt.title('Model accuracy')\n",
    "plt.ylabel('Accuracy')\n",
    "plt.xlabel('Epoch')\n",
    "plt.legend(['Train', 'Validation'], loc='upper left')\n",
    "plt.savefig('accuracy.png', format='png', dpi=1200)\n",
    "plt.show()"
   ]
  },
  {
   "cell_type": "code",
   "execution_count": 36,
   "id": "ae04292f",
   "metadata": {},
   "outputs": [],
   "source": [
    "model.save('models/lstm.h5')"
   ]
  },
  {
   "cell_type": "code",
   "execution_count": 37,
   "id": "680709ef",
   "metadata": {},
   "outputs": [
    {
     "name": "stdout",
     "output_type": "stream",
     "text": [
      "43/43 [==============================] - 0s 643us/step\n"
     ]
    }
   ],
   "source": [
    "y_pred = model.predict(X_test_reshaped, verbose=1)\n",
    "y_pred = np.argmax(y_pred, axis=1)\n",
    "\n",
    "lstm_acc = accuracy_score(y_pred, y_test)\n",
    "lstm_prec = precision_score(y_pred, y_test,average='weighted')\n",
    "lstm_rec = recall_score(y_pred, y_test,average='weighted')\n",
    "lstm_f1 = f1_score(y_pred, y_test,average='weighted')"
   ]
  },
  {
   "cell_type": "markdown",
   "id": "650c0b10",
   "metadata": {},
   "source": [
    "# CNN"
   ]
  },
  {
   "cell_type": "code",
   "execution_count": 38,
   "id": "ca7d6737",
   "metadata": {},
   "outputs": [],
   "source": [
    "X_train, X_test, y_train, y_test = train_test_split(X, Y, test_size=0.20, random_state=42)\n",
    "X_train = X_train.values\n",
    "X_test = X_test.values"
   ]
  },
  {
   "cell_type": "code",
   "execution_count": 39,
   "id": "9905a3a8",
   "metadata": {},
   "outputs": [
    {
     "name": "stdout",
     "output_type": "stream",
     "text": [
      "Epoch 1/15\n",
      "154/154 [==============================] - 4s 2ms/step - loss: 0.8572 - accuracy: 0.9591 - val_loss: 0.2912 - val_accuracy: 0.9725\n",
      "Epoch 2/15\n",
      "154/154 [==============================] - 0s 2ms/step - loss: 0.3605 - accuracy: 0.9776 - val_loss: 0.1545 - val_accuracy: 0.9780\n",
      "Epoch 3/15\n",
      "154/154 [==============================] - 0s 1ms/step - loss: 0.3209 - accuracy: 0.9805 - val_loss: 0.0901 - val_accuracy: 0.9799\n",
      "Epoch 4/15\n",
      "154/154 [==============================] - 0s 1ms/step - loss: 0.7057 - accuracy: 0.9699 - val_loss: 0.5570 - val_accuracy: 0.9762\n",
      "Epoch 5/15\n",
      "154/154 [==============================] - 0s 1ms/step - loss: 0.8124 - accuracy: 0.9744 - val_loss: 0.1701 - val_accuracy: 0.9853\n",
      "Epoch 6/15\n",
      "154/154 [==============================] - 0s 2ms/step - loss: 0.3346 - accuracy: 0.9776 - val_loss: 0.0983 - val_accuracy: 0.9762\n",
      "Epoch 7/15\n",
      "154/154 [==============================] - 0s 2ms/step - loss: 0.4715 - accuracy: 0.9554 - val_loss: 0.2672 - val_accuracy: 0.9670\n",
      "Epoch 8/15\n",
      "154/154 [==============================] - 0s 1ms/step - loss: 0.2615 - accuracy: 0.9764 - val_loss: 0.0433 - val_accuracy: 0.9890\n",
      "Epoch 9/15\n",
      "154/154 [==============================] - 0s 1ms/step - loss: 0.2307 - accuracy: 0.9752 - val_loss: 0.0655 - val_accuracy: 0.9908\n",
      "Epoch 10/15\n",
      "154/154 [==============================] - 0s 1ms/step - loss: 0.4706 - accuracy: 0.9776 - val_loss: 0.3504 - val_accuracy: 0.9799\n",
      "Epoch 11/15\n",
      "154/154 [==============================] - 0s 1ms/step - loss: 0.5395 - accuracy: 0.9782 - val_loss: 0.0986 - val_accuracy: 0.9890\n",
      "Epoch 12/15\n",
      "154/154 [==============================] - 0s 1ms/step - loss: 0.2346 - accuracy: 0.9772 - val_loss: 0.0351 - val_accuracy: 0.9853\n",
      "Epoch 13/15\n",
      "154/154 [==============================] - 0s 1ms/step - loss: 0.2291 - accuracy: 0.9780 - val_loss: 0.2857 - val_accuracy: 0.9835\n",
      "Epoch 14/15\n",
      "154/154 [==============================] - 0s 1ms/step - loss: 0.4519 - accuracy: 0.9776 - val_loss: 0.0533 - val_accuracy: 0.9853\n",
      "Epoch 15/15\n",
      "154/154 [==============================] - 0s 1ms/step - loss: 0.1885 - accuracy: 0.9784 - val_loss: 0.1112 - val_accuracy: 0.9872\n",
      "43/43 [==============================] - 0s 1ms/step - loss: 0.0498 - accuracy: 0.9897\n",
      "Test accuracy: 0.9897435903549194\n"
     ]
    }
   ],
   "source": [
    "X_train_cnn = X_train.reshape(5460, 8, 1)  \n",
    "X_test_cnn = X_test.reshape(1365,8,1)\n",
    "\n",
    "model = Sequential([\n",
    "    Conv1D(filters=32, kernel_size=3, activation='relu', input_shape=(8, 1)),\n",
    "    MaxPooling1D(pool_size=2),\n",
    "    Flatten(),\n",
    "    Dense(10, activation='relu'),\n",
    "    Dense(1, activation='sigmoid')  \n",
    "])\n",
    "\n",
    "model.compile(optimizer='adam', loss='binary_crossentropy', metrics=['accuracy'])\n",
    "\n",
    "\n",
    "history = model.fit(X_train_cnn, y_train, epochs=15, batch_size=32, validation_split=0.1)\n",
    "\n",
    "\n",
    "loss, accuracy = model.evaluate(X_test.reshape(len(X_test), 8, 1), y_test)\n",
    "print(f'Test accuracy: {accuracy}')"
   ]
  },
  {
   "cell_type": "code",
   "execution_count": 40,
   "id": "f423b064",
   "metadata": {},
   "outputs": [
    {
     "data": {
      "image/png": "[encoded data removed]",
      "text/plain": [
       "<Figure size 432x288 with 1 Axes>"
      ]
     },
     "metadata": {
      "needs_background": "light"
     },
     "output_type": "display_data"
    },
    {
     "data": {
      "image/png": "[encoded data removed]",
      "text/plain": [
       "<Figure size 432x288 with 1 Axes>"
      ]
     },
     "metadata": {
      "needs_background": "light"
     },
     "output_type": "display_data"
    }
   ],
   "source": [
    "plt.plot(history.history['loss'])\n",
    "plt.plot(history.history['val_loss'])\n",
    "plt.title('Model loss')\n",
    "plt.ylabel('Loss')\n",
    "plt.xlabel('Epoch')\n",
    "plt.legend(['Train', 'Validation'], loc='upper left')\n",
    "plt.savefig('loss.png', format='png', dpi=1200)\n",
    "plt.show()\n",
    "\n",
    "\n",
    "# Plot training & validation accuracy values\n",
    "plt.plot(history.history['accuracy'])\n",
    "plt.plot(history.history['val_accuracy'])\n",
    "plt.title('Model accuracy')\n",
    "plt.ylabel('Accuracy')\n",
    "plt.xlabel('Epoch')\n",
    "plt.legend(['Train', 'Validation'], loc='upper left')\n",
    "plt.savefig('accuracy.png', format='png', dpi=1200)\n",
    "plt.show()"
   ]
  },
  {
   "cell_type": "code",
   "execution_count": 41,
   "id": "c6632e95",
   "metadata": {},
   "outputs": [],
   "source": [
    "model.save('models/cnn.h5')"
   ]
  },
  {
   "cell_type": "code",
   "execution_count": 42,
   "id": "8594dfcf",
   "metadata": {},
   "outputs": [
    {
     "name": "stdout",
     "output_type": "stream",
     "text": [
      "43/43 [==============================] - 0s 571us/step\n"
     ]
    }
   ],
   "source": [
    "y_pred = model.predict(X_test_cnn, verbose=1)\n",
    "y_pred = np.argmax(y_pred,axis=1)\n",
    "\n",
    "cnn_acc = accuracy_score(y_pred, y_test)\n",
    "cnn_prec = precision_score(y_pred, y_test,average='weighted')\n",
    "cnn_rec = recall_score(y_pred, y_test,average='weighted')\n",
    "cnn_f1 = f1_score(y_pred, y_test,average='weighted')"
   ]
  },
  {
   "cell_type": "markdown",
   "id": "88148399",
   "metadata": {},
   "source": [
    "# Extension"
   ]
  },
  {
   "cell_type": "code",
   "execution_count": 43,
   "id": "64e087b2",
   "metadata": {},
   "outputs": [],
   "source": [
    "X_train, X_test, y_train, y_test = train_test_split(X, Y, test_size=0.20, random_state=42)"
   ]
  },
  {
   "cell_type": "code",
   "execution_count": 44,
   "id": "e8b57dc9",
   "metadata": {},
   "outputs": [],
   "source": [
    "clf1 = GradientBoostingClassifier(n_estimators=100, learning_rate=1.0, max_depth=1, random_state=0)\n",
    "clf2 = RandomForestClassifier(n_estimators=50, random_state=1)\n",
    "clf3 = GaussianNB()\n",
    "\n",
    "\n",
    "eclf1 = VotingClassifier(estimators=[('gb', clf1), ('rf', clf2), ('gnb', clf3)], voting='hard')\n",
    "\n",
    "\n",
    "eclf1.fit(X_train, y_train)\n",
    "\n",
    "y_pred = eclf1.predict(X_test)\n",
    "\n",
    "vot_acc = accuracy_score(y_pred, y_test)\n",
    "vot_prec = precision_score(y_pred, y_test,average='weighted')\n",
    "vot_rec = recall_score(y_pred, y_test,average='weighted')\n",
    "vot_f1 = f1_score(y_pred, y_test,average='weighted')"
   ]
  },
  {
   "cell_type": "markdown",
   "id": "bd2e08c0",
   "metadata": {},
   "source": [
    "# Comparison"
   ]
  },
  {
   "cell_type": "code",
   "execution_count": 45,
   "id": "e043cb07",
   "metadata": {},
   "outputs": [],
   "source": [
    "results = {\n",
    "    'accuracy': [rnn_acc, rf_acc, gb_acc, lstm_acc, cnn_acc,vot_acc],\n",
    "    'precision': [rnn_prec, rf_prec, gb_prec, lstm_prec, cnn_prec,vot_prec],\n",
    "    'f1': [rnn_f1, rf_f1, gb_f1, lstm_f1, cnn_f1,vot_f1],\n",
    "    'recall': [rnn_rec, rf_rec, gb_rec, lstm_rec, cnn_rec, vot_rec]\n",
    "}\n",
    "\n",
    "index = ['RNN', 'Random Forest', 'Extreme Gradient Boost', 'LSTM', 'CNN','Voting Classifier']"
   ]
  },
  {
   "cell_type": "code",
   "execution_count": 46,
   "id": "01128652",
   "metadata": {},
   "outputs": [
    {
     "name": "stdout",
     "output_type": "stream",
     "text": [
      "                        accuracy  precision        f1    recall\n",
      "RNN                     0.520879   1.000000  0.684971  0.520879\n",
      "Random Forest           0.978755   0.978816  0.978760  0.978755\n",
      "Extreme Gradient Boost  0.995604   0.995604  0.995604  0.995604\n",
      "LSTM                    0.520879   1.000000  0.684971  0.520879\n",
      "CNN                     0.515751   1.000000  0.680522  0.515751\n",
      "Voting Classifier       0.994872   0.994882  0.994872  0.994872\n"
     ]
    }
   ],
   "source": [
    "results =pd.DataFrame(results,index=index)\n",
    "print(results)"
   ]
  },
  {
   "cell_type": "code",
   "execution_count": 47,
   "id": "0b3bf811",
   "metadata": {},
   "outputs": [
    {
     "data": {
      "image/png": "[encoded data removed]",
      "text/plain": [
       "<Figure size 1368x1368 with 1 Axes>"
      ]
     },
     "metadata": {
      "needs_background": "light"
     },
     "output_type": "display_data"
    }
   ],
   "source": [
    "fig =results.plot(kind='bar',title='Comaprison of models',figsize =(19,19)).get_figure()\n",
    "fig.savefig('Final Result.png')"
   ]
  },
  {
   "cell_type": "code",
   "execution_count": 48,
   "id": "4b79800e",
   "metadata": {},
   "outputs": [
    {
     "data": {
      "image/png": "[encoded data removed]",
      "text/plain": [
       "<Figure size 576x432 with 1 Axes>"
      ]
     },
     "metadata": {
      "needs_background": "light"
     },
     "output_type": "display_data"
    }
   ],
   "source": [
    "accuracy_values = results['accuracy']\n",
    "accuracy_df = pd.DataFrame({'Algorithms': index, 'Accuracy': accuracy_values})\n",
    "\n",
    "plt.figure(figsize=(8, 6))\n",
    "plt.bar(accuracy_df['Algorithms'], accuracy_df['Accuracy'], color='blue')\n",
    "plt.title('Accuracy of Different Algorithms')\n",
    "plt.xlabel('Algorithms')\n",
    "plt.ylabel('Accuracy')\n",
    "plt.xticks(rotation=45)\n",
    "plt.tight_layout()\n",
    "plt.show()"
   ]
  },
  {
   "cell_type": "code",
   "execution_count": 49,
   "id": "1483d8e9",
   "metadata": {},
   "outputs": [
    {
     "data": {
      "image/png": "[encoded data removed]",
      "text/plain": [
       "<Figure size 576x432 with 1 Axes>"
      ]
     },
     "metadata": {
      "needs_background": "light"
     },
     "output_type": "display_data"
    }
   ],
   "source": [
    "recall_values = results['recall']\n",
    "recall_df = pd.DataFrame({'Algorithms': index, 'Recall': recall_values})\n",
    "\n",
    "plt.figure(figsize=(8, 6))\n",
    "plt.bar(recall_df['Algorithms'], recall_df['Recall'], color='orange')\n",
    "plt.title('Recall of Different Algorithms')\n",
    "plt.xlabel('Algorithms')\n",
    "plt.ylabel('Recall')\n",
    "plt.xticks(rotation=45)\n",
    "plt.tight_layout()\n",
    "plt.show()"
   ]
  },
  {
   "cell_type": "code",
   "execution_count": 50,
   "id": "0ddcefe8",
   "metadata": {},
   "outputs": [
    {
     "data": {
      "image/png": "[encoded data removed]",
      "text/plain": [
       "<Figure size 576x432 with 1 Axes>"
      ]
     },
     "metadata": {
      "needs_background": "light"
     },
     "output_type": "display_data"
    }
   ],
   "source": [
    "precision_values = results['precision']\n",
    "precision_df = pd.DataFrame({'Algorithms': index, 'Precision': precision_values})\n",
    "\n",
    "plt.figure(figsize=(8, 6))\n",
    "plt.bar(precision_df['Algorithms'], precision_df['Precision'], color='green')\n",
    "plt.title('Precision of Different Algorithms')\n",
    "plt.xlabel('Algorithms')\n",
    "plt.ylabel('Precision')\n",
    "plt.xticks(rotation=45)\n",
    "plt.tight_layout()\n",
    "plt.show()"
   ]
  },
  {
   "cell_type": "code",
   "execution_count": 51,
   "id": "463f7c58",
   "metadata": {},
   "outputs": [
    {
     "data": {
      "image/png": "[encoded data removed]",
      "text/plain": [
       "<Figure size 576x432 with 1 Axes>"
      ]
     },
     "metadata": {
      "needs_background": "light"
     },
     "output_type": "display_data"
    }
   ],
   "source": [
    "f1_values = results['f1']\n",
    "f1_df = pd.DataFrame({'Algorithms': index, 'F1 Score': f1_values})\n",
    "\n",
    "plt.figure(figsize=(8, 6))\n",
    "plt.bar(f1_df['Algorithms'], f1_df['F1 Score'], color='red')\n",
    "plt.title('F1 Score of Different Algorithms')\n",
    "plt.xlabel('Algorithms')\n",
    "plt.ylabel('F1 Score')\n",
    "plt.xticks(rotation=45)\n",
    "plt.tight_layout()\n",
    "plt.show()"
   ]
  },
  {
   "cell_type": "markdown",
   "id": "bd658b9a",
   "metadata": {},
   "source": [
    "# Saving Model"
   ]
  },
  {
   "cell_type": "code",
   "execution_count": 52,
   "id": "dcc2edba",
   "metadata": {},
   "outputs": [],
   "source": [
    "pickle.dump(eclf1,open('models/model.sav','wb'))"
   ]
  },
  {
   "cell_type": "code",
   "execution_count": 53,
   "id": "e218dbc6",
   "metadata": {},
   "outputs": [
    {
     "data": {
      "text/html": [
       "<div>\n",
       "<style scoped>\n",
       "    .dataframe tbody tr th:only-of-type {\n",
       "        vertical-align: middle;\n",
       "    }\n",
       "\n",
       "    .dataframe tbody tr th {\n",
       "        vertical-align: top;\n",
       "    }\n",
       "\n",
       "    .dataframe thead th {\n",
       "        text-align: right;\n",
       "    }\n",
       "</style>\n",
       "<table border=\"1\" class=\"dataframe\">\n",
       "  <thead>\n",
       "    <tr style=\"text-align: right;\">\n",
       "      <th></th>\n",
       "      <th>statuses_count</th>\n",
       "      <th>followers_count</th>\n",
       "      <th>friends_count</th>\n",
       "      <th>favourites_count</th>\n",
       "      <th>lang_num</th>\n",
       "      <th>listed_count</th>\n",
       "      <th>geo_enabled</th>\n",
       "      <th>profile_use_background_image</th>\n",
       "    </tr>\n",
       "  </thead>\n",
       "  <tbody>\n",
       "    <tr>\n",
       "      <th>0</th>\n",
       "      <td>4287</td>\n",
       "      <td>312</td>\n",
       "      <td>628</td>\n",
       "      <td>1893</td>\n",
       "      <td>5</td>\n",
       "      <td>2</td>\n",
       "      <td>1.0</td>\n",
       "      <td>1.0</td>\n",
       "    </tr>\n",
       "    <tr>\n",
       "      <th>1</th>\n",
       "      <td>22</td>\n",
       "      <td>19</td>\n",
       "      <td>247</td>\n",
       "      <td>0</td>\n",
       "      <td>5</td>\n",
       "      <td>0</td>\n",
       "      <td>0.0</td>\n",
       "      <td>1.0</td>\n",
       "    </tr>\n",
       "    <tr>\n",
       "      <th>2</th>\n",
       "      <td>17</td>\n",
       "      <td>5</td>\n",
       "      <td>206</td>\n",
       "      <td>2</td>\n",
       "      <td>5</td>\n",
       "      <td>0</td>\n",
       "      <td>0.0</td>\n",
       "      <td>1.0</td>\n",
       "    </tr>\n",
       "    <tr>\n",
       "      <th>3</th>\n",
       "      <td>183</td>\n",
       "      <td>148</td>\n",
       "      <td>338</td>\n",
       "      <td>4</td>\n",
       "      <td>14</td>\n",
       "      <td>4</td>\n",
       "      <td>0.0</td>\n",
       "      <td>1.0</td>\n",
       "    </tr>\n",
       "    <tr>\n",
       "      <th>4</th>\n",
       "      <td>30</td>\n",
       "      <td>6</td>\n",
       "      <td>559</td>\n",
       "      <td>1</td>\n",
       "      <td>5</td>\n",
       "      <td>0</td>\n",
       "      <td>0.0</td>\n",
       "      <td>1.0</td>\n",
       "    </tr>\n",
       "    <tr>\n",
       "      <th>...</th>\n",
       "      <td>...</td>\n",
       "      <td>...</td>\n",
       "      <td>...</td>\n",
       "      <td>...</td>\n",
       "      <td>...</td>\n",
       "      <td>...</td>\n",
       "      <td>...</td>\n",
       "      <td>...</td>\n",
       "    </tr>\n",
       "    <tr>\n",
       "      <th>6820</th>\n",
       "      <td>32</td>\n",
       "      <td>16</td>\n",
       "      <td>239</td>\n",
       "      <td>0</td>\n",
       "      <td>5</td>\n",
       "      <td>0</td>\n",
       "      <td>0.0</td>\n",
       "      <td>1.0</td>\n",
       "    </tr>\n",
       "    <tr>\n",
       "      <th>6821</th>\n",
       "      <td>27226</td>\n",
       "      <td>3420</td>\n",
       "      <td>1519</td>\n",
       "      <td>8380</td>\n",
       "      <td>5</td>\n",
       "      <td>181</td>\n",
       "      <td>1.0</td>\n",
       "      <td>1.0</td>\n",
       "    </tr>\n",
       "    <tr>\n",
       "      <th>6822</th>\n",
       "      <td>35</td>\n",
       "      <td>17</td>\n",
       "      <td>525</td>\n",
       "      <td>0</td>\n",
       "      <td>9</td>\n",
       "      <td>0</td>\n",
       "      <td>1.0</td>\n",
       "      <td>1.0</td>\n",
       "    </tr>\n",
       "    <tr>\n",
       "      <th>6823</th>\n",
       "      <td>30</td>\n",
       "      <td>21</td>\n",
       "      <td>556</td>\n",
       "      <td>7</td>\n",
       "      <td>5</td>\n",
       "      <td>0</td>\n",
       "      <td>0.0</td>\n",
       "      <td>1.0</td>\n",
       "    </tr>\n",
       "    <tr>\n",
       "      <th>6824</th>\n",
       "      <td>57</td>\n",
       "      <td>27</td>\n",
       "      <td>520</td>\n",
       "      <td>0</td>\n",
       "      <td>5</td>\n",
       "      <td>0</td>\n",
       "      <td>0.0</td>\n",
       "      <td>1.0</td>\n",
       "    </tr>\n",
       "  </tbody>\n",
       "</table>\n",
       "<p>6825 rows × 8 columns</p>\n",
       "</div>"
      ],
      "text/plain": [
       "      statuses_count  followers_count  friends_count  favourites_count  \\\n",
       "0               4287              312            628              1893   \n",
       "1                 22               19            247                 0   \n",
       "2                 17                5            206                 2   \n",
       "3                183              148            338                 4   \n",
       "4                 30                6            559                 1   \n",
       "...              ...              ...            ...               ...   \n",
       "6820              32               16            239                 0   \n",
       "6821           27226             3420           1519              8380   \n",
       "6822              35               17            525                 0   \n",
       "6823              30               21            556                 7   \n",
       "6824              57               27            520                 0   \n",
       "\n",
       "      lang_num  listed_count  geo_enabled  profile_use_background_image  \n",
       "0            5             2          1.0                           1.0  \n",
       "1            5             0          0.0                           1.0  \n",
       "2            5             0          0.0                           1.0  \n",
       "3           14             4          0.0                           1.0  \n",
       "4            5             0          0.0                           1.0  \n",
       "...        ...           ...          ...                           ...  \n",
       "6820         5             0          0.0                           1.0  \n",
       "6821         5           181          1.0                           1.0  \n",
       "6822         9             0          1.0                           1.0  \n",
       "6823         5             0          0.0                           1.0  \n",
       "6824         5             0          0.0                           1.0  \n",
       "\n",
       "[6825 rows x 8 columns]"
      ]
     },
     "execution_count": 53,
     "metadata": {},
     "output_type": "execute_result"
    }
   ],
   "source": [
    "X"
   ]
  },
  {
   "cell_type": "code",
   "execution_count": 54,
   "id": "43dc5ea0",
   "metadata": {},
   "outputs": [
    {
     "data": {
      "text/plain": [
       "0       0.0\n",
       "1       1.0\n",
       "2       1.0\n",
       "3       0.0\n",
       "4       1.0\n",
       "       ... \n",
       "6820    1.0\n",
       "6821    0.0\n",
       "6822    1.0\n",
       "6823    1.0\n",
       "6824    1.0\n",
       "Name: isFake, Length: 6825, dtype: float64"
      ]
     },
     "execution_count": 54,
     "metadata": {},
     "output_type": "execute_result"
    }
   ],
   "source": [
    "Y"
   ]
  },
  {
   "cell_type": "code",
   "execution_count": null,
   "id": "a925058a",
   "metadata": {},
   "outputs": [],
   "source": []
  }
 ],
 "metadata": {
  "kernelspec": {
   "display_name": "Python 3",
   "language": "python",
   "name": "python3"
  },
  "language_info": {
   "codemirror_mode": {
    "name": "ipython",
    "version": 3
   },
   "file_extension": ".py",
   "mimetype": "text/x-python",
   "name": "python",
   "nbconvert_exporter": "python",
   "pygments_lexer": "ipython3",
   "version": "3.7.4"
  }
 },
 "nbformat": 4,
 "nbformat_minor": 5
}
